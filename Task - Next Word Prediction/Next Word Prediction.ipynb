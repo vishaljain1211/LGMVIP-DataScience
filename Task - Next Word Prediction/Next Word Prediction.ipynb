{
 "cells": [
  {
   "cell_type": "markdown",
   "metadata": {},
   "source": [
    "## LetsGrowMore\n",
    "## TASK  - Next Word Prediction\n",
    "## By Subbhashit Mukherjee"
   ]
  },
  {
   "cell_type": "code",
   "execution_count": 1,
   "metadata": {},
   "outputs": [],
   "source": [
    "import numpy as np\n",
    "import pickle\n",
    "import heapq\n",
    "from nltk.tokenize import RegexpTokenizer\n",
    "from tensorflow.keras.models import Sequential, load_model\n",
    "from tensorflow.keras.layers import LSTM\n",
    "from tensorflow.keras.layers import Dense, Activation\n",
    "from tensorflow.keras.optimizers import RMSprop\n",
    "import matplotlib.pyplot as plt"
   ]
  },
  {
   "cell_type": "code",
   "execution_count": 2,
   "metadata": {},
   "outputs": [],
   "source": [
    "text = open('C:/Users/Lenovo/Desktop/textdata.txt',encoding='UTF-8').read().lower()\n",
    "tr = RegexpTokenizer(r'\\w+')\n",
    "words = tr.tokenize(text)\n",
    "unique_words = np.unique(words)\n",
    "uw_index = dict((c, i) for i, c in enumerate(unique_words))"
   ]
  },
  {
   "cell_type": "code",
   "execution_count": 3,
   "metadata": {},
   "outputs": [
    {
     "name": "stdout",
     "output_type": "stream",
     "text": [
      "['project', 'gutenberg', 's', 'the', 'adventures'] of\n"
     ]
    }
   ],
   "source": [
    "len_w = 5\n",
    "prev = []\n",
    "nextw = []\n",
    "for i in range(len(words) - len_w):\n",
    "    prev.append(words[i:i + len_w])\n",
    "    nextw.append(words[i + len_w])\n",
    "print(prev[0],nextw[0])"
   ]
  },
  {
   "cell_type": "code",
   "execution_count": 4,
   "metadata": {},
   "outputs": [],
   "source": [
    "X = np.zeros((len(prev), len_w, len(unique_words)), dtype=bool)\n",
    "Y = np.zeros((len(nextw), len(unique_words)), dtype=bool)"
   ]
  },
  {
   "cell_type": "code",
   "execution_count": 5,
   "metadata": {},
   "outputs": [],
   "source": [
    "for i, each_words in enumerate(prev):\n",
    "    for j, each_word in enumerate(each_words):\n",
    "        X[i, j, uw_index[each_word]] = 1\n",
    "    Y[i, uw_index[nextw[i]]] = 1"
   ]
  },
  {
   "cell_type": "code",
   "execution_count": 6,
   "metadata": {},
   "outputs": [
    {
     "name": "stdout",
     "output_type": "stream",
     "text": [
      "[False False False ... False False False]\n"
     ]
    }
   ],
   "source": [
    "print(X[0][1])"
   ]
  },
  {
   "cell_type": "code",
   "execution_count": 8,
   "metadata": {},
   "outputs": [
    {
     "name": "stdout",
     "output_type": "stream",
     "text": [
      "Train on 103759 samples, validate on 5462 samples\n",
      "Epoch 1/2\n",
      "103759/103759 [==============================] - 266s 3ms/sample - loss: 6.0194 - accuracy: 0.1063 - val_loss: 7.0757 - val_accuracy: 0.0972\n",
      "Epoch 2/2\n",
      "103759/103759 [==============================] - 254s 2ms/sample - loss: 5.7708 - accuracy: 0.1477 - val_loss: 7.9357 - val_accuracy: 0.0937\n"
     ]
    }
   ],
   "source": [
    "model = Sequential()\n",
    "model.add(LSTM(128, input_shape=(len_w, len(unique_words))))\n",
    "model.add(Dense(len(unique_words)))\n",
    "model.add(Activation('softmax'))\n",
    "optimizer = RMSprop(lr=0.01)\n",
    "model.compile(loss='categorical_crossentropy', optimizer=optimizer, metrics=['accuracy'])\n",
    "history = model.fit(X, Y, validation_split=0.05, batch_size=128, epochs=2, shuffle=True).history"
   ]
  },
  {
   "cell_type": "code",
   "execution_count": 9,
   "metadata": {},
   "outputs": [
    {
     "data": {
      "text/plain": [
       "<matplotlib.legend.Legend at 0x2ae8f5de788>"
      ]
     },
     "execution_count": 9,
     "metadata": {},
     "output_type": "execute_result"
    },
    {
     "data": {
      "image/png": "[encoded data removed]",
      "text/plain": [
       "<Figure size 432x288 with 1 Axes>"
      ]
     },
     "metadata": {
      "needs_background": "light"
     },
     "output_type": "display_data"
    }
   ],
   "source": [
    "model.save('word-pred-model.h5')\n",
    "pickle.dump(history, open(\"history.p\", \"wb\"))\n",
    "model = load_model('word-pred-model.h5')\n",
    "history = pickle.load(open(\"history.p\", \"rb\"))\n",
    "\n",
    "plt.plot(history['accuracy'])\n",
    "plt.plot(history['val_accuracy'])\n",
    "plt.ylabel('accuracy')\n",
    "plt.xlabel('epochs')\n",
    "plt.legend(['train', 'test'], loc='lower right')"
   ]
  },
  {
   "cell_type": "code",
   "execution_count": 10,
   "metadata": {},
   "outputs": [],
   "source": [
    "def prepare_input(text):\n",
    "    x = np.zeros((1, len_w, len(unique_words)))\n",
    "    for t, word in enumerate(text.split()):\n",
    "        print(word)\n",
    "        x[0, t, uw_index[word]] = 1\n",
    "    return x\n",
    "\n",
    "def sample(preds, top_n=3):\n",
    "    preds = np.asarray(preds).astype('float64')\n",
    "    preds = np.log(preds)\n",
    "    exp_preds = np.exp(preds)\n",
    "    preds = exp_preds / np.sum(exp_preds)\n",
    "    return heapq.nlargest(top_n, range(len(preds)), preds.take)\n",
    "\n",
    "def predict_completion(text):\n",
    "    original_text = text\n",
    "    generated = text\n",
    "    completion = ''\n",
    "    while True:\n",
    "        x = prepare_input(text)\n",
    "        preds = model.predict(x, verbose=0)[0]\n",
    "        next_index = sample(preds, top_n=1)[0]\n",
    "        next_char = indices_char[next_index]\n",
    "        text = text[1:] + next_char\n",
    "        completion += next_char\n",
    "        if len(original_text + completion) + 2 > len(original_text) and next_char == ' ':\n",
    "            return completion\n",
    "        \n",
    "def predict_word(text, n=3):\n",
    "    x = prepare_input(text)\n",
    "    preds = model.predict(x, verbose=0)[0]\n",
    "    next_indices = sample(preds, n)\n",
    "    return [unique_words[idx] for idx in next_indices]"
   ]
  },
  {
   "cell_type": "code",
   "execution_count": 11,
   "metadata": {},
   "outputs": [
    {
     "name": "stdout",
     "output_type": "stream",
     "text": [
      "original sentence:  It is not a lack of love, but a lack of friendship that makes unhappy marriages.\n",
      "sequence:  it is not a lack\n",
      "it\n",
      "is\n",
      "not\n",
      "a\n",
      "lack\n",
      "next possible words:  ['of', 'which', 'man', 'a', 'that']\n",
      "original sentence:  That which does not kill us makes us stronger.\n",
      "sequence:  that which does not kill\n",
      "that\n",
      "which\n",
      "does\n",
      "not\n",
      "kill\n",
      "next possible words:  ['in', 'the', 'for', 'by', 'it']\n",
      "original sentence:  I'm not upset that you lied to me, I'm upset that from now on I can't believe you.\n",
      "sequence:  i m not upset that\n",
      "i\n",
      "m\n",
      "not\n",
      "upset\n",
      "that\n",
      "next possible words:  ['i', 'the', 'it', 'he', 'you']\n",
      "original sentence:  And those who were seen dancing were thought to be insane by those who could not hear the music.\n",
      "sequence:  and those who were seen\n",
      "and\n",
      "those\n",
      "who\n",
      "were\n",
      "seen\n",
      "next possible words:  ['in', 'which', 'and', 'with', 'upon']\n",
      "original sentence:  It is hard enough to remember my opinions, without also remembering my reasons for them!\n",
      "sequence:  it is hard enough to\n",
      "it\n",
      "is\n",
      "hard\n",
      "enough\n",
      "to\n",
      "next possible words:  ['be', 'think', 'have', 'me', 'see']\n"
     ]
    }
   ],
   "source": [
    "quotes = [\n",
    "    \"It is not a lack of love, but a lack of friendship that makes unhappy marriages.\",\n",
    "    \"That which does not kill us makes us stronger.\",\n",
    "    \"I'm not upset that you lied to me, I'm upset that from now on I can't believe you.\",\n",
    "    \"And those who were seen dancing were thought to be insane by those who could not hear the music.\",\n",
    "    \"It is hard enough to remember my opinions, without also remembering my reasons for them!\"\n",
    "]\n",
    "\n",
    "for q in quotes:\n",
    "    print(\"original sentence: \",q)\n",
    "    seq = \" \".join(tr.tokenize(q.lower())[0:5])\n",
    "    print(\"sequence: \",seq)\n",
    "    print(\"next possible words: \", predict_word(seq, 5))"
   ]
  }
 ],
 "metadata": {
  "kernelspec": {
   "display_name": "Python 3",
   "language": "python",
   "name": "python3"
  },
  "language_info": {
   "codemirror_mode": {
    "name": "ipython",
    "version": 3
   },
   "file_extension": ".py",
   "mimetype": "text/x-python",
   "name": "python",
   "nbconvert_exporter": "python",
   "pygments_lexer": "ipython3",
   "version": "3.7.6"
  }
 },
 "nbformat": 4,
 "nbformat_minor": 4
}
